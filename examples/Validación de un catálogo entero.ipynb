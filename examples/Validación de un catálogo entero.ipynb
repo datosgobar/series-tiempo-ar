{
 "cells": [
  {
   "cell_type": "code",
   "execution_count": 1,
   "metadata": {},
   "outputs": [],
   "source": [
    "import sys\n",
    "import os\n",
    "import pathlib\n",
    "\n",
    "sys.path.insert(0, str(pathlib.Path(os.getcwd()).parent))"
   ]
  },
  {
   "cell_type": "code",
   "execution_count": 2,
   "metadata": {},
   "outputs": [],
   "source": [
    "from series_tiempo_ar import TimeSeriesDataJson\n"
   ]
  },
  {
   "cell_type": "code",
   "execution_count": 3,
   "metadata": {},
   "outputs": [],
   "source": [
    "sspm = TimeSeriesDataJson('http://infra.datos.gob.ar/catalog/sspm/data.json')"
   ]
  },
  {
   "cell_type": "code",
   "execution_count": 4,
   "metadata": {},
   "outputs": [
    {
     "data": {
      "text/plain": [
       "{'status': 'ERROR',\n",
       " 'errors': {'168.1': ['futuro_rofex_usd_12m tiene mas missings (6296) que valores (0)'],\n",
       "  '192.1': [\"Datos inconsistentes en la distribución 192.1: Comienzo '1881-01-01 00:00:00' / Fin '2009-01-01 00:00:00' / Frecuencia 'R/P3M' / Fechas '513' / Valores '129'\",\n",
       "   'Campo subtotal_agricola_60 faltante en la distribución 192.1']}}"
      ]
     },
     "execution_count": 4,
     "metadata": {},
     "output_type": "execute_result"
    }
   ],
   "source": [
    "validation = sspm.validate_time_series_catalog()\n",
    "validation"
   ]
  },
  {
   "cell_type": "code",
   "execution_count": 6,
   "metadata": {},
   "outputs": [
    {
     "data": {
      "text/plain": [
       "False"
      ]
     },
     "execution_count": 6,
     "metadata": {},
     "output_type": "execute_result"
    }
   ],
   "source": [
    "d_192_1 = sspm.load_ts_distribution('192.1')\n",
    "'subtotal_agricola_60' in d_192_1.columns"
   ]
  },
  {
   "cell_type": "code",
   "execution_count": 5,
   "metadata": {},
   "outputs": [
    {
     "data": {
      "text/plain": [
       "{'status': 'ERROR',\n",
       " 'errors': {'ccaf798e-3998-4163-873f-98379a10797d': [series_tiempo_ar.custom_exceptions.InvalidFieldTitleError(\"'participacion_%_novillos' usa caracteres invalidos ('%'). Validos: 'abcdefghijklmnopqrstuvwxyz0123456789_'\")],\n",
       "  '7afe10d1-e9bc-4383-9e3c-c8066bc21f65': [series_tiempo_ar.custom_exceptions.InvalidFieldTitleError(\"'participacion_%_novillos' usa caracteres invalidos ('%'). Validos: 'abcdefghijklmnopqrstuvwxyz0123456789_'\"),\n",
       "   series_tiempo_ar.custom_exceptions.FieldMissingInDistrbutionError('Campo produccion_en_miles_de_toneladas_eq_res_c/h\\t faltante en la distribución 7afe10d1-e9bc-4383-9e3c-c8066bc21f65')],\n",
       "  '830454b9-9f80-460b-9bcc-e30babc83949': [series_tiempo_ar.custom_exceptions.FieldTitleTooLongError(\"'porcentaje_grasa_butirosa_kg_solidos_leche_cruda_nivel_nacional' tiene '63' caracteres. Maximo: '60'\")],\n",
       "  '221859a8-c51e-47c2-95ab-a8525bb2b55d': [series_tiempo_ar.custom_exceptions.FieldFewValuesError('superficie_ha_santa_fe tiene 1 valores, deberia tener 2 o mas')],\n",
       "  '24571505-bee3-447c-8c2c-8aabd9515508': [series_tiempo_ar.custom_exceptions.InvalidFieldTitleError(\"'consumo_per_capita_kg_persona_año' usa caracteres invalidos ('ñ'). Validos: 'abcdefghijklmnopqrstuvwxyz0123456789_'\")]}}"
      ]
     },
     "execution_count": 5,
     "metadata": {},
     "output_type": "execute_result"
    }
   ],
   "source": [
    "agro_validation = agroindustria.validate_time_series_catalog()\n",
    "agro_validation"
   ]
  }
 ],
 "metadata": {
  "kernelspec": {
   "display_name": "Python 3",
   "language": "python",
   "name": "python3"
  },
  "language_info": {
   "codemirror_mode": {
    "name": "ipython",
    "version": 3
   },
   "file_extension": ".py",
   "mimetype": "text/x-python",
   "name": "python",
   "nbconvert_exporter": "python",
   "pygments_lexer": "ipython3",
   "version": "3.6.6"
  }
 },
 "nbformat": 4,
 "nbformat_minor": 2
}
