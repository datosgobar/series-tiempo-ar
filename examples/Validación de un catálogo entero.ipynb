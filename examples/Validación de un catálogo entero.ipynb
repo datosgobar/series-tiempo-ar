{
 "cells": [
  {
   "cell_type": "code",
   "execution_count": 15,
   "metadata": {},
   "outputs": [
    {
     "data": {
      "text/plain": [
       "['/home/lucas/.pyenv/versions/3.6.6/lib/python36.zip',\n",
       " '/home/lucas/.pyenv/versions/3.6.6/lib/python3.6',\n",
       " '/home/lucas/.pyenv/versions/3.6.6/lib/python3.6/lib-dynload',\n",
       " '',\n",
       " '/home/lucas/.pyenv/versions/3.6.6/envs/series-tiempo-ar-2/lib/python3.6/site-packages',\n",
       " '/home/lucas/.pyenv/versions/3.6.6/envs/series-tiempo-ar-2/lib/python3.6/site-packages/IPython/extensions',\n",
       " '/home/lucas/.ipython',\n",
       " PosixPath('/home/lucas/devartis/modernizacion/series-tiempo-ar'),\n",
       " PosixPath('/home/lucas/devartis/modernizacion/series-tiempo-ar'),\n",
       " PosixPath('/home/lucas/devartis/modernizacion/series-tiempo-ar'),\n",
       " '/home/lucas/devartis/modernizacion/series-tiempo-ar']"
      ]
     },
     "execution_count": 15,
     "metadata": {},
     "output_type": "execute_result"
    }
   ],
   "source": [
    "import sys\n",
    "import os\n",
    "import pathlib\n",
    "\n",
    "sys.path.insert(0, str(pathlib.Path(os.getcwd()).parent))"
   ]
  },
  {
   "cell_type": "code",
   "execution_count": 16,
   "metadata": {},
   "outputs": [],
   "source": [
    "from series_tiempo_ar import TimeSeriesDataJson\n"
   ]
  },
  {
   "cell_type": "code",
   "execution_count": 17,
   "metadata": {},
   "outputs": [],
   "source": [
    "sspm = TimeSeriesDataJson('http://infra.datos.gob.ar/catalog/sspm/data.json')"
   ]
  },
  {
   "cell_type": "code",
   "execution_count": 18,
   "metadata": {},
   "outputs": [
    {
     "data": {
      "text/plain": [
       "{'status': 'ERROR',\n",
       " 'error': {'catalog': {'status': 'ERROR',\n",
       "   'title': 'Datos Programación Macroeconómica',\n",
       "   'errors': [{'error_code': 2,\n",
       "     'message': 'futuro_rofex_usd_12m tiene mas missings (6289) que valores (0)',\n",
       "     'validator': 'time_series_format',\n",
       "     'validator_value': None,\n",
       "     'path': [],\n",
       "     'instance': None}]},\n",
       "  'dataset': []}}"
      ]
     },
     "execution_count": 18,
     "metadata": {},
     "output_type": "execute_result"
    }
   ],
   "source": [
    "validation = sspm.validate_catalog(only_errors=True)\n",
    "validation"
   ]
  },
  {
   "cell_type": "code",
   "execution_count": 19,
   "metadata": {},
   "outputs": [],
   "source": [
    "agroindustria = TimeSeriesDataJson('http://datos.agroindustria.gob.ar/data.json')"
   ]
  },
  {
   "cell_type": "code",
   "execution_count": 20,
   "metadata": {},
   "outputs": [
    {
     "data": {
      "text/plain": [
       "{'status': 'ERROR',\n",
       " 'error': {'catalog': {'status': 'ERROR',\n",
       "   'title': 'Datos Agroindustriales',\n",
       "   'errors': [{'error_code': 2,\n",
       "     'message': \"'participacion_%_novillos' usa caracteres invalidos ('%'). Validos: 'abcdefghijklmnopqrstuvwxyz0123456789_'\",\n",
       "     'validator': 'time_series_format',\n",
       "     'validator_value': None,\n",
       "     'path': [],\n",
       "     'instance': None}]},\n",
       "  'dataset': [{'status': 'ERROR',\n",
       "    'title': 'Indicadores anuales del sector bovino',\n",
       "    'identifier': '6c17e5cd-bccd-4536-a08c-ff01d4e0f0e7',\n",
       "    'list_index': 1,\n",
       "    'errors': [{'error_code': 2,\n",
       "      'message': \"'Mercado Interno: Consumo Aparente (En miles de t res c/hueso)' is not valid under any of the given schemas\",\n",
       "      'validator': 'anyOf',\n",
       "      'validator_value': [{'type': 'string', 'maxLength': 60},\n",
       "       {'type': 'null'}],\n",
       "      'path': ['dataset', 1, 'distribution', 0, 'field', 12, 'title'],\n",
       "      'instance': 'Mercado Interno: Consumo Aparente (En miles de t res c/hueso)'}]},\n",
       "   {'status': 'ERROR',\n",
       "    'title': 'Producción leche cruda a nivel nacional y provincial, expresada en porcentaje de sólidos',\n",
       "    'identifier': '534a4ff8-9eb2-47db-b449-aef801d963a3',\n",
       "    'list_index': 3,\n",
       "    'errors': [{'error_code': 2,\n",
       "      'message': \"'porcentaje_grasa_butirosa_kg_solidos_leche_cruda_nivel_nacional' is not valid under any of the given schemas\",\n",
       "      'validator': 'anyOf',\n",
       "      'validator_value': [{'type': 'string', 'maxLength': 60},\n",
       "       {'type': 'null'}],\n",
       "      'path': ['dataset', 3, 'distribution', 4, 'field', 1, 'title'],\n",
       "      'instance': 'porcentaje_grasa_butirosa_kg_solidos_leche_cruda_nivel_nacional'},\n",
       "     {'error_code': 2,\n",
       "      'message': \"'porcentaje_grasa_butirosa_kg_solidos_leche_cruda_sgo_del_estero' is not valid under any of the given schemas\",\n",
       "      'validator': 'anyOf',\n",
       "      'validator_value': [{'type': 'string', 'maxLength': 60},\n",
       "       {'type': 'null'}],\n",
       "      'path': ['dataset', 3, 'distribution', 4, 'field', 8, 'title'],\n",
       "      'instance': 'porcentaje_grasa_butirosa_kg_solidos_leche_cruda_sgo_del_estero'}]},\n",
       "   {'status': 'ERROR',\n",
       "    'title': 'Índice Novillo del SIO Carnes -INSC-',\n",
       "    'identifier': '175f48c6-312c-486a-b533-91f80de4ebbe',\n",
       "    'list_index': 29,\n",
       "    'errors': [{'error_code': 2,\n",
       "      'message': \"distribution '7a827081-02dd-4fd8-9da6-4ecce84c77c1' tiene distintas extensiones: format ('JPEG') y downloadURL ('.jpg')\",\n",
       "      'validator': 'mismatchedValue',\n",
       "      'validator_value': 'Chequea format y la extension del downloadURL',\n",
       "      'path': ['dataset', 29, 'distribution', 1],\n",
       "      'instance': None},\n",
       "     {'error_code': 2,\n",
       "      'message': \"distribution '7a827081-02dd-4fd8-9da6-4ecce84c77c1' tiene distintas extensiones: format ('JPEG') y fileName ('.jpg')\",\n",
       "      'validator': 'mismatchedValue',\n",
       "      'validator_value': 'Chequea format y la extension del fileName',\n",
       "      'path': ['dataset', 29, 'distribution', 1],\n",
       "      'instance': None},\n",
       "     {'error_code': 2,\n",
       "      'message': \"distribution '2de1bafd-8ba9-4940-9c46-bfd21a545868' tiene distintas extensiones: format ('JPEG') y downloadURL ('.jpg')\",\n",
       "      'validator': 'mismatchedValue',\n",
       "      'validator_value': 'Chequea format y la extension del downloadURL',\n",
       "      'path': ['dataset', 29, 'distribution', 2],\n",
       "      'instance': None},\n",
       "     {'error_code': 2,\n",
       "      'message': \"distribution '2de1bafd-8ba9-4940-9c46-bfd21a545868' tiene distintas extensiones: format ('JPEG') y fileName ('.jpg')\",\n",
       "      'validator': 'mismatchedValue',\n",
       "      'validator_value': 'Chequea format y la extension del fileName',\n",
       "      'path': ['dataset', 29, 'distribution', 2],\n",
       "      'instance': None}]},\n",
       "   {'status': 'ERROR',\n",
       "    'title': 'Indicadores económicos para ganadería bovina',\n",
       "    'identifier': '0ed0d23f-d295-4991-b80b-745b5080d0ea',\n",
       "    'list_index': 30,\n",
       "    'errors': [{'error_code': 2,\n",
       "      'message': \"distribution 'd2f1b636-e9e5-46d6-85aa-7f73e210b645' tiene distintas extensiones: format ('JPEG') y downloadURL ('.jpg')\",\n",
       "      'validator': 'mismatchedValue',\n",
       "      'validator_value': 'Chequea format y la extension del downloadURL',\n",
       "      'path': ['dataset', 30, 'distribution', 4],\n",
       "      'instance': None},\n",
       "     {'error_code': 2,\n",
       "      'message': \"distribution 'd2f1b636-e9e5-46d6-85aa-7f73e210b645' tiene distintas extensiones: format ('JPEG') y fileName ('.jpg')\",\n",
       "      'validator': 'mismatchedValue',\n",
       "      'validator_value': 'Chequea format y la extension del fileName',\n",
       "      'path': ['dataset', 30, 'distribution', 4],\n",
       "      'instance': None}]},\n",
       "   {'status': 'ERROR',\n",
       "    'title': 'SIO Carnes',\n",
       "    'identifier': '19c2c34b-1f77-4893-afb0-3821d62891fa',\n",
       "    'list_index': 35,\n",
       "    'errors': [{'error_code': 2,\n",
       "      'message': \"distribution 'ba5c07e5-162a-4396-a046-77f50cf39d0f' tiene distintas extensiones: format ('JPEG') y downloadURL ('.jpg')\",\n",
       "      'validator': 'mismatchedValue',\n",
       "      'validator_value': 'Chequea format y la extension del downloadURL',\n",
       "      'path': ['dataset', 35, 'distribution', 2],\n",
       "      'instance': None},\n",
       "     {'error_code': 2,\n",
       "      'message': \"distribution 'ba5c07e5-162a-4396-a046-77f50cf39d0f' tiene distintas extensiones: format ('JPEG') y fileName ('.jpg')\",\n",
       "      'validator': 'mismatchedValue',\n",
       "      'validator_value': 'Chequea format y la extension del fileName',\n",
       "      'path': ['dataset', 35, 'distribution', 2],\n",
       "      'instance': None}]}]}}"
      ]
     },
     "execution_count": 20,
     "metadata": {},
     "output_type": "execute_result"
    }
   ],
   "source": [
    "agro_validation = agroindustria.validate_catalog(only_errors=True)\n",
    "agro_validation"
   ]
  }
 ],
 "metadata": {
  "kernelspec": {
   "display_name": "Python 3",
   "language": "python",
   "name": "python3"
  },
  "language_info": {
   "codemirror_mode": {
    "name": "ipython",
    "version": 3
   },
   "file_extension": ".py",
   "mimetype": "text/x-python",
   "name": "python",
   "nbconvert_exporter": "python",
   "pygments_lexer": "ipython3",
   "version": "3.6.6"
  }
 },
 "nbformat": 4,
 "nbformat_minor": 2
}
