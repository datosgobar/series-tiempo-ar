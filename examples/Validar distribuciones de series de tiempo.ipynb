{
 "cells": [
  {
   "cell_type": "markdown",
   "metadata": {},
   "source": [
    "# Validar distribuciones de series de tiempo"
   ]
  },
  {
   "cell_type": "code",
   "execution_count": 1,
   "metadata": {},
   "outputs": [],
   "source": [
    "from series_tiempo_ar.validations import get_distribution_errors\n",
    "from series_tiempo_ar import TimeSeriesDataJson\n",
    "import pandas as pd"
   ]
  },
  {
   "cell_type": "code",
   "execution_count": 2,
   "metadata": {},
   "outputs": [],
   "source": [
    "url = \"https://datos.agroindustria.gob.ar/data.json\"\n",
    "catalog = TimeSeriesDataJson(url)"
   ]
  },
  {
   "cell_type": "code",
   "execution_count": 3,
   "metadata": {},
   "outputs": [
    {
     "data": {
      "text/plain": [
       "['fe5bb691-7f7a-46ef-9142-c18eaa218213',\n",
       " '221859a8-c51e-47c2-95ab-a8525bb2b55d',\n",
       " '6e79add0-52d6-4eaf-b715-4636259f3aed',\n",
       " '2a928aef-7f9e-4335-bf3d-a1c5eab49037',\n",
       " 'f7c928d6-2cb0-4426-acf2-a11c242c813a',\n",
       " '4820c10d-f4c1-4ede-83b3-e0334cbb1e32',\n",
       " '84976af9-af2d-4759-87c3-0fb02ee7d8ec',\n",
       " '24571505-bee3-447c-8c2c-8aabd9515508',\n",
       " 'f4025e36-bd7c-410e-9449-a51621957f09',\n",
       " '2507ae92-75e6-4cbd-97f0-5c65f4da9963',\n",
       " '0128a612-22e8-4152-953b-64fb75986e2e',\n",
       " 'aa7aefc2-1bd8-4a9f-88a0-c0c6b76629d5',\n",
       " '1c3fb8f1-065c-4b2b-8b25-c32b1a14a241',\n",
       " '1c56b990-5f6c-4f39-ba3c-81fad06080e0',\n",
       " '2ff2b00a-0d1a-4193-b836-2f81811de464',\n",
       " 'dcd6d482-11fa-4543-b449-8add44b9a736',\n",
       " 'df8f7d09-797e-4e0b-9ad0-160f99edf2c0',\n",
       " 'f331e15a-0627-4752-a5f5-a3016a87a45c',\n",
       " 'ff0bf38f-a245-4173-882a-4ef3d61a06bc',\n",
       " '1ec33f3e-86b6-4802-a87d-91af91e26bb5']"
      ]
     },
     "execution_count": 3,
     "metadata": {},
     "output_type": "execute_result"
    }
   ],
   "source": [
    "ts_distributions = catalog.get_distributions(only_time_series=True, meta_field=\"identifier\")\n",
    "ts_distributions"
   ]
  },
  {
   "cell_type": "markdown",
   "metadata": {},
   "source": [
    "## Series sin descripción ni units"
   ]
  },
  {
   "cell_type": "code",
   "execution_count": 4,
   "metadata": {},
   "outputs": [],
   "source": [
    "series = pd.DataFrame(catalog.get_time_series())"
   ]
  },
  {
   "cell_type": "code",
   "execution_count": 5,
   "metadata": {},
   "outputs": [
    {
     "data": {
      "text/html": [
       "<div>\n",
       "<style scoped>\n",
       "    .dataframe tbody tr th:only-of-type {\n",
       "        vertical-align: middle;\n",
       "    }\n",
       "\n",
       "    .dataframe tbody tr th {\n",
       "        vertical-align: top;\n",
       "    }\n",
       "\n",
       "    .dataframe thead th {\n",
       "        text-align: right;\n",
       "    }\n",
       "</style>\n",
       "<table border=\"1\" class=\"dataframe\">\n",
       "  <thead>\n",
       "    <tr style=\"text-align: right;\">\n",
       "      <th></th>\n",
       "      <th>dataset_identifier</th>\n",
       "      <th>description</th>\n",
       "      <th>distribution_identifier</th>\n",
       "      <th>id</th>\n",
       "      <th>title</th>\n",
       "      <th>type</th>\n",
       "      <th>units</th>\n",
       "    </tr>\n",
       "  </thead>\n",
       "  <tbody>\n",
       "  </tbody>\n",
       "</table>\n",
       "</div>"
      ],
      "text/plain": [
       "Empty DataFrame\n",
       "Columns: [dataset_identifier, description, distribution_identifier, id, title, type, units]\n",
       "Index: []"
      ]
     },
     "execution_count": 5,
     "metadata": {},
     "output_type": "execute_result"
    }
   ],
   "source": [
    "series[pd.isnull(series.description)].to_csv(\"series-null-description.csv\", index=False, encoding=\"utf8\")\n",
    "series[pd.isnull(series.description)]"
   ]
  },
  {
   "cell_type": "code",
   "execution_count": 6,
   "metadata": {},
   "outputs": [
    {
     "data": {
      "text/html": [
       "<div>\n",
       "<style scoped>\n",
       "    .dataframe tbody tr th:only-of-type {\n",
       "        vertical-align: middle;\n",
       "    }\n",
       "\n",
       "    .dataframe tbody tr th {\n",
       "        vertical-align: top;\n",
       "    }\n",
       "\n",
       "    .dataframe thead th {\n",
       "        text-align: right;\n",
       "    }\n",
       "</style>\n",
       "<table border=\"1\" class=\"dataframe\">\n",
       "  <thead>\n",
       "    <tr style=\"text-align: right;\">\n",
       "      <th></th>\n",
       "      <th>dataset_identifier</th>\n",
       "      <th>description</th>\n",
       "      <th>distribution_identifier</th>\n",
       "      <th>id</th>\n",
       "      <th>title</th>\n",
       "      <th>type</th>\n",
       "      <th>units</th>\n",
       "    </tr>\n",
       "  </thead>\n",
       "  <tbody>\n",
       "  </tbody>\n",
       "</table>\n",
       "</div>"
      ],
      "text/plain": [
       "Empty DataFrame\n",
       "Columns: [dataset_identifier, description, distribution_identifier, id, title, type, units]\n",
       "Index: []"
      ]
     },
     "execution_count": 6,
     "metadata": {},
     "output_type": "execute_result"
    }
   ],
   "source": [
    "series[pd.isnull(series.units)].to_csv(\"series-null-units.csv\", index=False, encoding=\"utf8\")\n",
    "series[pd.isnull(series.units)]"
   ]
  },
  {
   "cell_type": "markdown",
   "metadata": {},
   "source": [
    "## Validar una distribución"
   ]
  },
  {
   "cell_type": "code",
   "execution_count": 7,
   "metadata": {},
   "outputs": [
    {
     "data": {
      "text/plain": [
       "[]"
      ]
     },
     "execution_count": 7,
     "metadata": {},
     "output_type": "execute_result"
    }
   ],
   "source": [
    "get_distribution_errors(catalog, ts_distributions[0])"
   ]
  },
  {
   "cell_type": "markdown",
   "metadata": {},
   "source": [
    "## Validar todas las distribuciones"
   ]
  },
  {
   "cell_type": "code",
   "execution_count": 8,
   "metadata": {},
   "outputs": [
    {
     "name": "stdout",
     "output_type": "stream",
     "text": [
      "No se pudo leer la distribución 4820c10d-f4c1-4ede-83b3-e0334cbb1e32\n",
      "'indice_tiempo ' is not in list\n"
     ]
    }
   ],
   "source": [
    "errors = []\n",
    "for ts_distribution in ts_distributions:\n",
    "    try:\n",
    "        for error in get_distribution_errors(catalog, ts_distribution):\n",
    "            errors.append({\n",
    "                \"distribution_id\": ts_distribution,\n",
    "                \"error_msg\": error.args[0]\n",
    "            })\n",
    "    except Exception as e:\n",
    "        print(\"No se pudo leer la distribución {}\".format(ts_distribution))\n",
    "        print(e)"
   ]
  },
  {
   "cell_type": "code",
   "execution_count": 9,
   "metadata": {},
   "outputs": [
    {
     "data": {
      "text/html": [
       "<div>\n",
       "<style scoped>\n",
       "    .dataframe tbody tr th:only-of-type {\n",
       "        vertical-align: middle;\n",
       "    }\n",
       "\n",
       "    .dataframe tbody tr th {\n",
       "        vertical-align: top;\n",
       "    }\n",
       "\n",
       "    .dataframe thead th {\n",
       "        text-align: right;\n",
       "    }\n",
       "</style>\n",
       "<table border=\"1\" class=\"dataframe\">\n",
       "  <thead>\n",
       "    <tr style=\"text-align: right;\">\n",
       "      <th></th>\n",
       "      <th>distribution_id</th>\n",
       "      <th>error_msg</th>\n",
       "    </tr>\n",
       "  </thead>\n",
       "  <tbody>\n",
       "    <tr>\n",
       "      <th>0</th>\n",
       "      <td>221859a8-c51e-47c2-95ab-a8525bb2b55d</td>\n",
       "      <td>superficie_ha_santa_fe tiene 1 valores, deberi...</td>\n",
       "    </tr>\n",
       "    <tr>\n",
       "      <th>1</th>\n",
       "      <td>24571505-bee3-447c-8c2c-8aabd9515508</td>\n",
       "      <td>'consumo_per_capita_kg_persona_año' usa caract...</td>\n",
       "    </tr>\n",
       "  </tbody>\n",
       "</table>\n",
       "</div>"
      ],
      "text/plain": [
       "                        distribution_id  \\\n",
       "0  221859a8-c51e-47c2-95ab-a8525bb2b55d   \n",
       "1  24571505-bee3-447c-8c2c-8aabd9515508   \n",
       "\n",
       "                                           error_msg  \n",
       "0  superficie_ha_santa_fe tiene 1 valores, deberi...  \n",
       "1  'consumo_per_capita_kg_persona_año' usa caract...  "
      ]
     },
     "execution_count": 9,
     "metadata": {},
     "output_type": "execute_result"
    }
   ],
   "source": [
    "pd.DataFrame(errors)"
   ]
  },
  {
   "cell_type": "code",
   "execution_count": null,
   "metadata": {},
   "outputs": [],
   "source": []
  }
 ],
 "metadata": {
  "kernelspec": {
   "display_name": "Python 3",
   "language": "python",
   "name": "python3"
  },
  "language_info": {
   "codemirror_mode": {
    "name": "ipython",
    "version": 3
   },
   "file_extension": ".py",
   "mimetype": "text/x-python",
   "name": "python",
   "nbconvert_exporter": "python",
   "pygments_lexer": "ipython3",
   "version": "3.7.3"
  },
  "toc": {
   "colors": {
    "hover_highlight": "#DAA520",
    "running_highlight": "#FF0000",
    "selected_highlight": "#FFD700"
   },
   "moveMenuLeft": true,
   "nav_menu": {
    "height": "66.5341px",
    "width": "251.989px"
   },
   "navigate_menu": true,
   "number_sections": true,
   "sideBar": true,
   "threshold": 4,
   "toc_cell": false,
   "toc_section_display": "block",
   "toc_window_display": false
  }
 },
 "nbformat": 4,
 "nbformat_minor": 2
}
